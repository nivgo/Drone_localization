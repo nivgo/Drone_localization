{
  "nbformat": 4,
  "nbformat_minor": 0,
  "metadata": {
    "colab": {
      "provenance": [],
      "authorship_tag": "ABX9TyPtr69Tgrz2khZrJ48zg9WT",
      "include_colab_link": true
    },
    "kernelspec": {
      "name": "python3",
      "display_name": "Python 3"
    },
    "language_info": {
      "name": "python"
    }
  },
  "cells": [
    {
      "cell_type": "markdown",
      "metadata": {
        "id": "view-in-github",
        "colab_type": "text"
      },
      "source": [
        "<a href=\"https://colab.research.google.com/github/nivgo/Drone_localization/blob/main/Code_initial_outlines.ipynb\" target=\"_parent\"><img src=\"https://colab.research.google.com/assets/colab-badge.svg\" alt=\"Open In Colab\"/></a>"
      ]
    },
    {
      "cell_type": "markdown",
      "source": [
        "# Pipeline steps notebook\n"
      ],
      "metadata": {
        "id": "yWahIVFGjPrJ"
      }
    },
    {
      "cell_type": "markdown",
      "source": [
        "1)Satellite imagery partitioning to smaller portions"
      ],
      "metadata": {
        "id": "zeAaaVCX0TJ0"
      }
    },
    {
      "cell_type": "code",
      "execution_count": null,
      "metadata": {
        "id": "GoEGjIp3jKsH"
      },
      "outputs": [],
      "source": []
    },
    {
      "cell_type": "markdown",
      "source": [
        "2)SuperPoint local feature extraction"
      ],
      "metadata": {
        "id": "SYbXlUPljc2o"
      }
    },
    {
      "cell_type": "code",
      "source": [],
      "metadata": {
        "id": "jyIzv9wr08Tp"
      },
      "execution_count": null,
      "outputs": []
    },
    {
      "cell_type": "markdown",
      "source": [
        "3) LightGlue feature matching"
      ],
      "metadata": {
        "id": "6H0tnOqN0fb4"
      }
    },
    {
      "cell_type": "code",
      "source": [],
      "metadata": {
        "id": "aAkWQbcQ0_0b"
      },
      "execution_count": null,
      "outputs": []
    },
    {
      "cell_type": "markdown",
      "source": [
        "4)Homography matrix estimation"
      ],
      "metadata": {
        "id": "pS-MZQwA1AOd"
      }
    },
    {
      "cell_type": "code",
      "source": [],
      "metadata": {
        "id": "HtJEZ_f41Scr"
      },
      "execution_count": null,
      "outputs": []
    },
    {
      "cell_type": "markdown",
      "source": [
        "5) Adaptive subsequent area predition???"
      ],
      "metadata": {
        "id": "8uBWj3Na1Srx"
      }
    },
    {
      "cell_type": "code",
      "source": [],
      "metadata": {
        "id": "OroPjTqx1WXj"
      },
      "execution_count": null,
      "outputs": []
    }
  ]
}